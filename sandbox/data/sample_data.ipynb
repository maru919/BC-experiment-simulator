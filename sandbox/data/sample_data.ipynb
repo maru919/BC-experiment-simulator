{
 "cells": [
  {
   "cell_type": "markdown",
   "id": "d0e9f3d7",
   "metadata": {},
   "source": [
    "# データセットの作成"
   ]
  },
  {
   "cell_type": "markdown",
   "id": "acb18ef8",
   "metadata": {
    "heading_collapsed": true
   },
   "source": [
    "## Settings"
   ]
  },
  {
   "cell_type": "code",
   "execution_count": 12,
   "id": "84896233",
   "metadata": {
    "hidden": true
   },
   "outputs": [],
   "source": [
    "import pandas as pd\n",
    "import numpy as np\n",
    "import matplotlib.pyplot as plt\n",
    "import itertools\n",
    "from pprint import pprint\n",
    "plt.rcParams['font.family'] = 'Hiragino Maru Gothic Pro'"
   ]
  },
  {
   "cell_type": "markdown",
   "id": "5790465b",
   "metadata": {
    "heading_collapsed": true
   },
   "source": [
    "## Sample csv format"
   ]
  },
  {
   "cell_type": "code",
   "execution_count": 2,
   "id": "f72d1ea8",
   "metadata": {
    "hidden": true
   },
   "outputs": [
    {
     "data": {
      "text/html": [
       "<div>\n",
       "<style scoped>\n",
       "    .dataframe tbody tr th:only-of-type {\n",
       "        vertical-align: middle;\n",
       "    }\n",
       "\n",
       "    .dataframe tbody tr th {\n",
       "        vertical-align: top;\n",
       "    }\n",
       "\n",
       "    .dataframe thead th {\n",
       "        text-align: right;\n",
       "    }\n",
       "</style>\n",
       "<table border=\"1\" class=\"dataframe\">\n",
       "  <thead>\n",
       "    <tr style=\"text-align: right;\">\n",
       "      <th></th>\n",
       "      <th>tokenId</th>\n",
       "      <th>tokenName</th>\n",
       "      <th>price</th>\n",
       "      <th>tokenTypeId</th>\n",
       "      <th>updateTime</th>\n",
       "    </tr>\n",
       "  </thead>\n",
       "  <tbody>\n",
       "    <tr>\n",
       "      <th>0</th>\n",
       "      <td>0x20221110132152000000000000000000000000000000...</td>\n",
       "      <td>ST00001</td>\n",
       "      <td>10000000</td>\n",
       "      <td>0x30783030303031000000000000000000000000000000...</td>\n",
       "      <td>1668054112</td>\n",
       "    </tr>\n",
       "    <tr>\n",
       "      <th>1</th>\n",
       "      <td>0x20221110132152000000000000000000000000000000...</td>\n",
       "      <td>ST00002</td>\n",
       "      <td>10000000</td>\n",
       "      <td>0x30783030303031000000000000000000000000000000...</td>\n",
       "      <td>1668054112</td>\n",
       "    </tr>\n",
       "    <tr>\n",
       "      <th>2</th>\n",
       "      <td>0x20221110132152000000000000000000000000000000...</td>\n",
       "      <td>ST00003</td>\n",
       "      <td>10000000</td>\n",
       "      <td>0x30783030303031000000000000000000000000000000...</td>\n",
       "      <td>1668054112</td>\n",
       "    </tr>\n",
       "    <tr>\n",
       "      <th>3</th>\n",
       "      <td>0x20221110132152000000000000000000000000000000...</td>\n",
       "      <td>ST00004</td>\n",
       "      <td>10000000</td>\n",
       "      <td>0x30783030303031000000000000000000000000000000...</td>\n",
       "      <td>1668054112</td>\n",
       "    </tr>\n",
       "    <tr>\n",
       "      <th>4</th>\n",
       "      <td>0x20221110132152000000000000000000000000000000...</td>\n",
       "      <td>ST00005</td>\n",
       "      <td>10000000</td>\n",
       "      <td>0x30783030303031000000000000000000000000000000...</td>\n",
       "      <td>1668054112</td>\n",
       "    </tr>\n",
       "    <tr>\n",
       "      <th>...</th>\n",
       "      <td>...</td>\n",
       "      <td>...</td>\n",
       "      <td>...</td>\n",
       "      <td>...</td>\n",
       "      <td>...</td>\n",
       "    </tr>\n",
       "    <tr>\n",
       "      <th>351</th>\n",
       "      <td>0x20221110132152000000000000000000000000000000...</td>\n",
       "      <td>ST00352</td>\n",
       "      <td>10000000</td>\n",
       "      <td>0x30783030303031000000000000000000000000000000...</td>\n",
       "      <td>1668054112</td>\n",
       "    </tr>\n",
       "    <tr>\n",
       "      <th>352</th>\n",
       "      <td>0x20221110132152000000000000000000000000000000...</td>\n",
       "      <td>ST00353</td>\n",
       "      <td>10000000</td>\n",
       "      <td>0x30783030303031000000000000000000000000000000...</td>\n",
       "      <td>1668054112</td>\n",
       "    </tr>\n",
       "    <tr>\n",
       "      <th>353</th>\n",
       "      <td>0x20221110132152000000000000000000000000000000...</td>\n",
       "      <td>ST00354</td>\n",
       "      <td>10000000</td>\n",
       "      <td>0x30783030303031000000000000000000000000000000...</td>\n",
       "      <td>1668054112</td>\n",
       "    </tr>\n",
       "    <tr>\n",
       "      <th>354</th>\n",
       "      <td>0x20221110132152000000000000000000000000000000...</td>\n",
       "      <td>ST00355</td>\n",
       "      <td>10000000</td>\n",
       "      <td>0x30783030303031000000000000000000000000000000...</td>\n",
       "      <td>1668054112</td>\n",
       "    </tr>\n",
       "    <tr>\n",
       "      <th>355</th>\n",
       "      <td>0x20221110132152000000000000000000000000000000...</td>\n",
       "      <td>ST00356</td>\n",
       "      <td>10000000</td>\n",
       "      <td>0x30783030303031000000000000000000000000000000...</td>\n",
       "      <td>1668054112</td>\n",
       "    </tr>\n",
       "  </tbody>\n",
       "</table>\n",
       "<p>356 rows × 5 columns</p>\n",
       "</div>"
      ],
      "text/plain": [
       "                                               tokenId tokenName     price  \\\n",
       "0    0x20221110132152000000000000000000000000000000...   ST00001  10000000   \n",
       "1    0x20221110132152000000000000000000000000000000...   ST00002  10000000   \n",
       "2    0x20221110132152000000000000000000000000000000...   ST00003  10000000   \n",
       "3    0x20221110132152000000000000000000000000000000...   ST00004  10000000   \n",
       "4    0x20221110132152000000000000000000000000000000...   ST00005  10000000   \n",
       "..                                                 ...       ...       ...   \n",
       "351  0x20221110132152000000000000000000000000000000...   ST00352  10000000   \n",
       "352  0x20221110132152000000000000000000000000000000...   ST00353  10000000   \n",
       "353  0x20221110132152000000000000000000000000000000...   ST00354  10000000   \n",
       "354  0x20221110132152000000000000000000000000000000...   ST00355  10000000   \n",
       "355  0x20221110132152000000000000000000000000000000...   ST00356  10000000   \n",
       "\n",
       "                                           tokenTypeId  updateTime  \n",
       "0    0x30783030303031000000000000000000000000000000...  1668054112  \n",
       "1    0x30783030303031000000000000000000000000000000...  1668054112  \n",
       "2    0x30783030303031000000000000000000000000000000...  1668054112  \n",
       "3    0x30783030303031000000000000000000000000000000...  1668054112  \n",
       "4    0x30783030303031000000000000000000000000000000...  1668054112  \n",
       "..                                                 ...         ...  \n",
       "351  0x30783030303031000000000000000000000000000000...  1668054112  \n",
       "352  0x30783030303031000000000000000000000000000000...  1668054112  \n",
       "353  0x30783030303031000000000000000000000000000000...  1668054112  \n",
       "354  0x30783030303031000000000000000000000000000000...  1668054112  \n",
       "355  0x30783030303031000000000000000000000000000000...  1668054112  \n",
       "\n",
       "[356 rows x 5 columns]"
      ]
     },
     "execution_count": 2,
     "metadata": {},
     "output_type": "execute_result"
    }
   ],
   "source": [
    "sample_create_token_df = pd.read_csv('../../data/sample/csv/createToken_decode.csv')\n",
    "sample_create_token_df"
   ]
  },
  {
   "cell_type": "code",
   "execution_count": 3,
   "id": "c542909e",
   "metadata": {
    "hidden": true
   },
   "outputs": [
    {
     "data": {
      "text/html": [
       "<div>\n",
       "<style scoped>\n",
       "    .dataframe tbody tr th:only-of-type {\n",
       "        vertical-align: middle;\n",
       "    }\n",
       "\n",
       "    .dataframe tbody tr th {\n",
       "        vertical-align: top;\n",
       "    }\n",
       "\n",
       "    .dataframe thead th {\n",
       "        text-align: right;\n",
       "    }\n",
       "</style>\n",
       "<table border=\"1\" class=\"dataframe\">\n",
       "  <thead>\n",
       "    <tr style=\"text-align: right;\">\n",
       "      <th></th>\n",
       "      <th>tradingId</th>\n",
       "      <th>lender</th>\n",
       "      <th>borrowerTokenIds</th>\n",
       "      <th>lenderTokenIds</th>\n",
       "      <th>borrowerTokenAmounts</th>\n",
       "      <th>lenderTokenAmounts</th>\n",
       "      <th>startTime</th>\n",
       "      <th>finishTime</th>\n",
       "      <th>rate</th>\n",
       "      <th>adjustmentToken</th>\n",
       "    </tr>\n",
       "  </thead>\n",
       "  <tbody>\n",
       "    <tr>\n",
       "      <th>0</th>\n",
       "      <td>0x20221110132540000000000000000000000000000000...</td>\n",
       "      <td>0x00000000000000000000000000000000000000000000...</td>\n",
       "      <td>['0x4a4354000000000000000000000000000000000000...</td>\n",
       "      <td>['0x202211101321520000000000000000000000000000...</td>\n",
       "      <td>[10000000000]</td>\n",
       "      <td>[33333333, 33333333, 33333333]</td>\n",
       "      <td>1668054340</td>\n",
       "      <td>1668057940</td>\n",
       "      <td>100</td>\n",
       "      <td>0x4a435400000000000000000000000000000000000000...</td>\n",
       "    </tr>\n",
       "    <tr>\n",
       "      <th>1</th>\n",
       "      <td>0x20221110132540000000000000000000000000000000...</td>\n",
       "      <td>0x00000000000000000000000000000000000000000000...</td>\n",
       "      <td>['0x4a4354000000000000000000000000000000000000...</td>\n",
       "      <td>['0x202211101321520000000000000000000000000000...</td>\n",
       "      <td>[10000000000]</td>\n",
       "      <td>[33333333, 33333333, 33333333]</td>\n",
       "      <td>1668054340</td>\n",
       "      <td>1668057940</td>\n",
       "      <td>100</td>\n",
       "      <td>0x4a435400000000000000000000000000000000000000...</td>\n",
       "    </tr>\n",
       "    <tr>\n",
       "      <th>2</th>\n",
       "      <td>0x20221110132540000000000000000000000000000000...</td>\n",
       "      <td>0x00000000000000000000000000000000000000000000...</td>\n",
       "      <td>['0x4a4354000000000000000000000000000000000000...</td>\n",
       "      <td>['0x202211101321520000000000000000000000000000...</td>\n",
       "      <td>[10000000000]</td>\n",
       "      <td>[33333333, 33333333, 33333333]</td>\n",
       "      <td>1668054340</td>\n",
       "      <td>1668057940</td>\n",
       "      <td>100</td>\n",
       "      <td>0x4a435400000000000000000000000000000000000000...</td>\n",
       "    </tr>\n",
       "    <tr>\n",
       "      <th>3</th>\n",
       "      <td>0x20221110132540000000000000000000000000000000...</td>\n",
       "      <td>0x00000000000000000000000000000000000000000000...</td>\n",
       "      <td>['0x4a4354000000000000000000000000000000000000...</td>\n",
       "      <td>['0x202211101321520000000000000000000000000000...</td>\n",
       "      <td>[10000000000]</td>\n",
       "      <td>[33333333, 33333333, 33333333]</td>\n",
       "      <td>1668054340</td>\n",
       "      <td>1668057940</td>\n",
       "      <td>100</td>\n",
       "      <td>0x4a435400000000000000000000000000000000000000...</td>\n",
       "    </tr>\n",
       "    <tr>\n",
       "      <th>4</th>\n",
       "      <td>0x20221110132540000000000000000000000000000000...</td>\n",
       "      <td>0x00000000000000000000000000000000000000000000...</td>\n",
       "      <td>['0x4a4354000000000000000000000000000000000000...</td>\n",
       "      <td>['0x202211101321520000000000000000000000000000...</td>\n",
       "      <td>[10000000000]</td>\n",
       "      <td>[33333333, 33333333, 33333333]</td>\n",
       "      <td>1668054340</td>\n",
       "      <td>1668057940</td>\n",
       "      <td>100</td>\n",
       "      <td>0x4a435400000000000000000000000000000000000000...</td>\n",
       "    </tr>\n",
       "    <tr>\n",
       "      <th>...</th>\n",
       "      <td>...</td>\n",
       "      <td>...</td>\n",
       "      <td>...</td>\n",
       "      <td>...</td>\n",
       "      <td>...</td>\n",
       "      <td>...</td>\n",
       "      <td>...</td>\n",
       "      <td>...</td>\n",
       "      <td>...</td>\n",
       "      <td>...</td>\n",
       "    </tr>\n",
       "    <tr>\n",
       "      <th>8662</th>\n",
       "      <td>0x20221110132540000000000000000000000000000000...</td>\n",
       "      <td>0x00000000000000000000000000000000000000000000...</td>\n",
       "      <td>['0x4a4354000000000000000000000000000000000000...</td>\n",
       "      <td>['0x202211101321520000000000000000000000000000...</td>\n",
       "      <td>[10000000000]</td>\n",
       "      <td>[33333333, 33333333, 33333333]</td>\n",
       "      <td>1668054340</td>\n",
       "      <td>1668057940</td>\n",
       "      <td>100</td>\n",
       "      <td>0x4a435400000000000000000000000000000000000000...</td>\n",
       "    </tr>\n",
       "    <tr>\n",
       "      <th>8663</th>\n",
       "      <td>0x20221110132540000000000000000000000000000000...</td>\n",
       "      <td>0x00000000000000000000000000000000000000000000...</td>\n",
       "      <td>['0x4a4354000000000000000000000000000000000000...</td>\n",
       "      <td>['0x202211101321520000000000000000000000000000...</td>\n",
       "      <td>[10000000000]</td>\n",
       "      <td>[33333333, 33333333, 33333333]</td>\n",
       "      <td>1668054340</td>\n",
       "      <td>1668057940</td>\n",
       "      <td>100</td>\n",
       "      <td>0x4a435400000000000000000000000000000000000000...</td>\n",
       "    </tr>\n",
       "    <tr>\n",
       "      <th>8664</th>\n",
       "      <td>0x20221110132540000000000000000000000000000000...</td>\n",
       "      <td>0x00000000000000000000000000000000000000000000...</td>\n",
       "      <td>['0x4a4354000000000000000000000000000000000000...</td>\n",
       "      <td>['0x202211101321520000000000000000000000000000...</td>\n",
       "      <td>[10000000000]</td>\n",
       "      <td>[33333333, 33333333, 33333333]</td>\n",
       "      <td>1668054340</td>\n",
       "      <td>1668057940</td>\n",
       "      <td>100</td>\n",
       "      <td>0x4a435400000000000000000000000000000000000000...</td>\n",
       "    </tr>\n",
       "    <tr>\n",
       "      <th>8665</th>\n",
       "      <td>0x20221110132540000000000000000000000000000000...</td>\n",
       "      <td>0x00000000000000000000000000000000000000000000...</td>\n",
       "      <td>['0x4a4354000000000000000000000000000000000000...</td>\n",
       "      <td>['0x202211101321520000000000000000000000000000...</td>\n",
       "      <td>[10000000000]</td>\n",
       "      <td>[33333333, 33333333, 33333333]</td>\n",
       "      <td>1668054340</td>\n",
       "      <td>1668057940</td>\n",
       "      <td>100</td>\n",
       "      <td>0x4a435400000000000000000000000000000000000000...</td>\n",
       "    </tr>\n",
       "    <tr>\n",
       "      <th>8666</th>\n",
       "      <td>0x20221110132540000000000000000000000000000000...</td>\n",
       "      <td>0x00000000000000000000000000000000000000000000...</td>\n",
       "      <td>['0x4a4354000000000000000000000000000000000000...</td>\n",
       "      <td>['0x202211101321520000000000000000000000000000...</td>\n",
       "      <td>[10000000000]</td>\n",
       "      <td>[33333333, 33333333, 33333333]</td>\n",
       "      <td>1668054340</td>\n",
       "      <td>1668057940</td>\n",
       "      <td>100</td>\n",
       "      <td>0x4a435400000000000000000000000000000000000000...</td>\n",
       "    </tr>\n",
       "  </tbody>\n",
       "</table>\n",
       "<p>8667 rows × 10 columns</p>\n",
       "</div>"
      ],
      "text/plain": [
       "                                              tradingId  \\\n",
       "0     0x20221110132540000000000000000000000000000000...   \n",
       "1     0x20221110132540000000000000000000000000000000...   \n",
       "2     0x20221110132540000000000000000000000000000000...   \n",
       "3     0x20221110132540000000000000000000000000000000...   \n",
       "4     0x20221110132540000000000000000000000000000000...   \n",
       "...                                                 ...   \n",
       "8662  0x20221110132540000000000000000000000000000000...   \n",
       "8663  0x20221110132540000000000000000000000000000000...   \n",
       "8664  0x20221110132540000000000000000000000000000000...   \n",
       "8665  0x20221110132540000000000000000000000000000000...   \n",
       "8666  0x20221110132540000000000000000000000000000000...   \n",
       "\n",
       "                                                 lender  \\\n",
       "0     0x00000000000000000000000000000000000000000000...   \n",
       "1     0x00000000000000000000000000000000000000000000...   \n",
       "2     0x00000000000000000000000000000000000000000000...   \n",
       "3     0x00000000000000000000000000000000000000000000...   \n",
       "4     0x00000000000000000000000000000000000000000000...   \n",
       "...                                                 ...   \n",
       "8662  0x00000000000000000000000000000000000000000000...   \n",
       "8663  0x00000000000000000000000000000000000000000000...   \n",
       "8664  0x00000000000000000000000000000000000000000000...   \n",
       "8665  0x00000000000000000000000000000000000000000000...   \n",
       "8666  0x00000000000000000000000000000000000000000000...   \n",
       "\n",
       "                                       borrowerTokenIds  \\\n",
       "0     ['0x4a4354000000000000000000000000000000000000...   \n",
       "1     ['0x4a4354000000000000000000000000000000000000...   \n",
       "2     ['0x4a4354000000000000000000000000000000000000...   \n",
       "3     ['0x4a4354000000000000000000000000000000000000...   \n",
       "4     ['0x4a4354000000000000000000000000000000000000...   \n",
       "...                                                 ...   \n",
       "8662  ['0x4a4354000000000000000000000000000000000000...   \n",
       "8663  ['0x4a4354000000000000000000000000000000000000...   \n",
       "8664  ['0x4a4354000000000000000000000000000000000000...   \n",
       "8665  ['0x4a4354000000000000000000000000000000000000...   \n",
       "8666  ['0x4a4354000000000000000000000000000000000000...   \n",
       "\n",
       "                                         lenderTokenIds borrowerTokenAmounts  \\\n",
       "0     ['0x202211101321520000000000000000000000000000...        [10000000000]   \n",
       "1     ['0x202211101321520000000000000000000000000000...        [10000000000]   \n",
       "2     ['0x202211101321520000000000000000000000000000...        [10000000000]   \n",
       "3     ['0x202211101321520000000000000000000000000000...        [10000000000]   \n",
       "4     ['0x202211101321520000000000000000000000000000...        [10000000000]   \n",
       "...                                                 ...                  ...   \n",
       "8662  ['0x202211101321520000000000000000000000000000...        [10000000000]   \n",
       "8663  ['0x202211101321520000000000000000000000000000...        [10000000000]   \n",
       "8664  ['0x202211101321520000000000000000000000000000...        [10000000000]   \n",
       "8665  ['0x202211101321520000000000000000000000000000...        [10000000000]   \n",
       "8666  ['0x202211101321520000000000000000000000000000...        [10000000000]   \n",
       "\n",
       "                  lenderTokenAmounts   startTime  finishTime  rate  \\\n",
       "0     [33333333, 33333333, 33333333]  1668054340  1668057940   100   \n",
       "1     [33333333, 33333333, 33333333]  1668054340  1668057940   100   \n",
       "2     [33333333, 33333333, 33333333]  1668054340  1668057940   100   \n",
       "3     [33333333, 33333333, 33333333]  1668054340  1668057940   100   \n",
       "4     [33333333, 33333333, 33333333]  1668054340  1668057940   100   \n",
       "...                              ...         ...         ...   ...   \n",
       "8662  [33333333, 33333333, 33333333]  1668054340  1668057940   100   \n",
       "8663  [33333333, 33333333, 33333333]  1668054340  1668057940   100   \n",
       "8664  [33333333, 33333333, 33333333]  1668054340  1668057940   100   \n",
       "8665  [33333333, 33333333, 33333333]  1668054340  1668057940   100   \n",
       "8666  [33333333, 33333333, 33333333]  1668054340  1668057940   100   \n",
       "\n",
       "                                        adjustmentToken  \n",
       "0     0x4a435400000000000000000000000000000000000000...  \n",
       "1     0x4a435400000000000000000000000000000000000000...  \n",
       "2     0x4a435400000000000000000000000000000000000000...  \n",
       "3     0x4a435400000000000000000000000000000000000000...  \n",
       "4     0x4a435400000000000000000000000000000000000000...  \n",
       "...                                                 ...  \n",
       "8662  0x4a435400000000000000000000000000000000000000...  \n",
       "8663  0x4a435400000000000000000000000000000000000000...  \n",
       "8664  0x4a435400000000000000000000000000000000000000...  \n",
       "8665  0x4a435400000000000000000000000000000000000000...  \n",
       "8666  0x4a435400000000000000000000000000000000000000...  \n",
       "\n",
       "[8667 rows x 10 columns]"
      ]
     },
     "execution_count": 3,
     "metadata": {},
     "output_type": "execute_result"
    }
   ],
   "source": [
    "sample_create_trading_df = pd.read_csv('../../data/sample/csv/createTrading_decode.csv')\n",
    "sample_create_trading_df"
   ]
  },
  {
   "cell_type": "code",
   "execution_count": 4,
   "id": "0ad2b2aa",
   "metadata": {
    "hidden": true
   },
   "outputs": [
    {
     "data": {
      "text/html": [
       "<div>\n",
       "<style scoped>\n",
       "    .dataframe tbody tr th:only-of-type {\n",
       "        vertical-align: middle;\n",
       "    }\n",
       "\n",
       "    .dataframe tbody tr th {\n",
       "        vertical-align: top;\n",
       "    }\n",
       "\n",
       "    .dataframe thead th {\n",
       "        text-align: right;\n",
       "    }\n",
       "</style>\n",
       "<table border=\"1\" class=\"dataframe\">\n",
       "  <thead>\n",
       "    <tr style=\"text-align: right;\">\n",
       "      <th></th>\n",
       "      <th>tokenId</th>\n",
       "      <th>price</th>\n",
       "      <th>updateTime</th>\n",
       "    </tr>\n",
       "  </thead>\n",
       "  <tbody>\n",
       "    <tr>\n",
       "      <th>0</th>\n",
       "      <td>0x20221110132152000000000000000000000000000000...</td>\n",
       "      <td>9000000</td>\n",
       "      <td>1668054263</td>\n",
       "    </tr>\n",
       "    <tr>\n",
       "      <th>1</th>\n",
       "      <td>0x20221110132152000000000000000000000000000000...</td>\n",
       "      <td>9000000</td>\n",
       "      <td>1668054263</td>\n",
       "    </tr>\n",
       "    <tr>\n",
       "      <th>2</th>\n",
       "      <td>0x20221110132152000000000000000000000000000000...</td>\n",
       "      <td>9000000</td>\n",
       "      <td>1668054263</td>\n",
       "    </tr>\n",
       "    <tr>\n",
       "      <th>3</th>\n",
       "      <td>0x20221110132152000000000000000000000000000000...</td>\n",
       "      <td>9000000</td>\n",
       "      <td>1668054263</td>\n",
       "    </tr>\n",
       "    <tr>\n",
       "      <th>4</th>\n",
       "      <td>0x20221110132152000000000000000000000000000000...</td>\n",
       "      <td>9000000</td>\n",
       "      <td>1668054263</td>\n",
       "    </tr>\n",
       "    <tr>\n",
       "      <th>...</th>\n",
       "      <td>...</td>\n",
       "      <td>...</td>\n",
       "      <td>...</td>\n",
       "    </tr>\n",
       "    <tr>\n",
       "      <th>351</th>\n",
       "      <td>0x20221110132152000000000000000000000000000000...</td>\n",
       "      <td>9000000</td>\n",
       "      <td>1668054263</td>\n",
       "    </tr>\n",
       "    <tr>\n",
       "      <th>352</th>\n",
       "      <td>0x20221110132152000000000000000000000000000000...</td>\n",
       "      <td>9000000</td>\n",
       "      <td>1668054263</td>\n",
       "    </tr>\n",
       "    <tr>\n",
       "      <th>353</th>\n",
       "      <td>0x20221110132152000000000000000000000000000000...</td>\n",
       "      <td>9000000</td>\n",
       "      <td>1668054263</td>\n",
       "    </tr>\n",
       "    <tr>\n",
       "      <th>354</th>\n",
       "      <td>0x20221110132152000000000000000000000000000000...</td>\n",
       "      <td>9000000</td>\n",
       "      <td>1668054263</td>\n",
       "    </tr>\n",
       "    <tr>\n",
       "      <th>355</th>\n",
       "      <td>0x20221110132152000000000000000000000000000000...</td>\n",
       "      <td>9000000</td>\n",
       "      <td>1668054263</td>\n",
       "    </tr>\n",
       "  </tbody>\n",
       "</table>\n",
       "<p>356 rows × 3 columns</p>\n",
       "</div>"
      ],
      "text/plain": [
       "                                               tokenId    price  updateTime\n",
       "0    0x20221110132152000000000000000000000000000000...  9000000  1668054263\n",
       "1    0x20221110132152000000000000000000000000000000...  9000000  1668054263\n",
       "2    0x20221110132152000000000000000000000000000000...  9000000  1668054263\n",
       "3    0x20221110132152000000000000000000000000000000...  9000000  1668054263\n",
       "4    0x20221110132152000000000000000000000000000000...  9000000  1668054263\n",
       "..                                                 ...      ...         ...\n",
       "351  0x20221110132152000000000000000000000000000000...  9000000  1668054263\n",
       "352  0x20221110132152000000000000000000000000000000...  9000000  1668054263\n",
       "353  0x20221110132152000000000000000000000000000000...  9000000  1668054263\n",
       "354  0x20221110132152000000000000000000000000000000...  9000000  1668054263\n",
       "355  0x20221110132152000000000000000000000000000000...  9000000  1668054263\n",
       "\n",
       "[356 rows x 3 columns]"
      ]
     },
     "execution_count": 4,
     "metadata": {},
     "output_type": "execute_result"
    }
   ],
   "source": [
    "sample_update_token_df = pd.read_csv('../../data/sample/csv/updateToken_decode.csv')\n",
    "sample_update_token_df"
   ]
  },
  {
   "cell_type": "code",
   "execution_count": null,
   "id": "9a364583",
   "metadata": {
    "hidden": true
   },
   "outputs": [],
   "source": []
  },
  {
   "cell_type": "markdown",
   "id": "12bd1a75",
   "metadata": {},
   "source": [
    "## Mock data distributions"
   ]
  },
  {
   "cell_type": "markdown",
   "id": "5eccaca6",
   "metadata": {},
   "source": [
    "### Price"
   ]
  },
  {
   "cell_type": "markdown",
   "id": "8d0407aa",
   "metadata": {},
   "source": [
    "#### 株レポGC取引"
   ]
  },
  {
   "cell_type": "code",
   "execution_count": 49,
   "id": "16c8989f",
   "metadata": {},
   "outputs": [
    {
     "name": "stdout",
     "output_type": "stream",
     "text": [
      "株レポGC取引: \n",
      "             10億円以内         10億円超        100億円超        500億円超\n",
      "ratio  1.500000e-01  6.000000e-01  2.000000e-01  5.000000e-02\n",
      "min    1.000000e+08  1.000000e+09  1.000000e+10  5.000000e+10\n",
      "max    1.000000e+09  1.000000e+10  5.000000e+10  1.000000e+11\n",
      "==================================================\n"
     ]
    },
    {
     "data": {
      "text/plain": [
       "<AxesSubplot:title={'center':'株レポGC取引: 概観'}>"
      ]
     },
     "execution_count": 49,
     "metadata": {},
     "output_type": "execute_result"
    },
    {
     "data": {
      "image/png": "[encoded data removed]",
      "text/plain": [
       "<Figure size 432x288 with 1 Axes>"
      ]
     },
     "metadata": {
      "needs_background": "light"
     },
     "output_type": "display_data"
    }
   ],
   "source": [
    "gc_price_column_labels = ['10億円以内', '10億円超', '100億円超', '500億円超']\n",
    "gc_price_dist = pd.DataFrame([[0.15, 0.6, 0.2, 0.05], [1.0e+8, 1.0e+9, 1.0e+10, 5.0e+10], [1.0e+9, 1.0e+10, 5.0e+10, 1.0e+11]],\n",
    "                             columns=gc_price_column_labels,\n",
    "                             index=['ratio', 'min', 'max'])\n",
    "gc_price_ave = 81.5e+8\n",
    "print('株レポGC取引: ')\n",
    "pprint(gc_price_dist)\n",
    "print('='*50)\n",
    "\n",
    "plt.title('株レポGC取引: 概観')\n",
    "gc_price_dist.T['ratio'].plot(kind='bar', rot=0)"
   ]
  },
  {
   "cell_type": "code",
   "execution_count": 48,
   "id": "22ffc40a",
   "metadata": {},
   "outputs": [
    {
     "data": {
      "text/plain": [
       "Text(0.5, 1.0, '株レポGC取引: ヒストグラム')"
      ]
     },
     "execution_count": 48,
     "metadata": {},
     "output_type": "execute_result"
    },
    {
     "data": {
      "image/png": "[encoded data removed]",
      "text/plain": [
       "<Figure size 432x288 with 1 Axes>"
      ]
     },
     "metadata": {
      "needs_background": "light"
     },
     "output_type": "display_data"
    }
   ],
   "source": [
    "gc_trade_num = 8000\n",
    "gc_ave_price_list = (gc_price_dist.T['min'] + gc_price_dist.T['max']) / 2\n",
    "gc_sample = [[ave]*int(gc_price_dist.T['ratio'][index] * gc_trade_num)  for (index, ave) in enumerate(gc_ave_price_list)]\n",
    "plt.hist(list(itertools.chain.from_iterable(gc_sample)), bins=40)\n",
    "plt.title('株レポGC取引: ヒストグラム')"
   ]
  },
  {
   "cell_type": "code",
   "execution_count": 45,
   "id": "60cdfe66",
   "metadata": {},
   "outputs": [
    {
     "data": {
      "text/plain": [
       "Text(0.5, 1.0, '株レポGC取引: 擬似データ分布（対数正規分布）')"
      ]
     },
     "execution_count": 45,
     "metadata": {},
     "output_type": "execute_result"
    },
    {
     "data": {
      "image/png": "[encoded data removed]",
      "text/plain": [
       "<Figure size 432x288 with 1 Axes>"
      ]
     },
     "metadata": {
      "needs_background": "light"
     },
     "output_type": "display_data"
    }
   ],
   "source": [
    "# 対数正規分布で類似分布を作成\n",
    "gc_price_max = gc_price_dist['500億円超']['max']\n",
    "mock_gc_price_df = pd.DataFrame(np.random.lognormal(gc_price_ave / gc_price_max, 1, gc_trade_num) * gc_price_max)\n",
    "mock_gc_price_df.hist(bins=1000, range=(0, 1.0e+12))\n",
    "plt.title('株レポGC取引: 擬似データ分布（対数正規分布）')"
   ]
  },
  {
   "cell_type": "code",
   "execution_count": null,
   "id": "5bdc17b4",
   "metadata": {},
   "outputs": [],
   "source": []
  },
  {
   "cell_type": "code",
   "execution_count": null,
   "id": "1f034d37",
   "metadata": {},
   "outputs": [],
   "source": []
  },
  {
   "cell_type": "code",
   "execution_count": null,
   "id": "82597552",
   "metadata": {},
   "outputs": [],
   "source": []
  },
  {
   "cell_type": "code",
   "execution_count": null,
   "id": "5dc2d057",
   "metadata": {},
   "outputs": [],
   "source": []
  },
  {
   "cell_type": "markdown",
   "id": "c826b2e7",
   "metadata": {
    "heading_collapsed": true
   },
   "source": [
    "#### 株レポSC取引"
   ]
  },
  {
   "cell_type": "code",
   "execution_count": 22,
   "id": "48336823",
   "metadata": {
    "hidden": true
   },
   "outputs": [
    {
     "name": "stdout",
     "output_type": "stream",
     "text": [
      "株レポ: SC取引金額\n",
      "              1億円以内          1億円超          2億円超          5億円超         10億円超\n",
      "ratio  7.400000e-01  9.000000e-02  1.100000e-01  4.000000e-02  2.000000e-02\n",
      "min    1.000000e+03  1.000000e+08  2.000000e+08  5.000000e+08  1.000000e+09\n",
      "max    1.000000e+08  2.000000e+08  5.000000e+08  1.000000e+09  1.000000e+10\n",
      "==================================================\n",
      "株レポ: SC取引金額概観\n"
     ]
    },
    {
     "data": {
      "text/plain": [
       "<AxesSubplot:>"
      ]
     },
     "execution_count": 22,
     "metadata": {},
     "output_type": "execute_result"
    },
    {
     "data": {
      "image/png": "[encoded data removed]",
      "text/plain": [
       "<Figure size 432x288 with 1 Axes>"
      ]
     },
     "metadata": {
      "needs_background": "light"
     },
     "output_type": "display_data"
    }
   ],
   "source": [
    "sc_price_column_labels = ['1億円以内', '1億円超', '2億円超', '5億円超', '10億円超']\n",
    "sc_price_dist = pd.DataFrame([[0.74, 0.09, 0.11, 0.04, 0.02], [1.0e+3, 1.0e+8, 2.0e+8, 5.0e+8, 1.0e+9], [1.0e+8, 2.0e+8, 5.0e+8, 1.0e+9, 1.0e+10]],\n",
    "                             columns=sc_price_column_labels,\n",
    "                             index=['ratio', 'min', 'max'])\n",
    "sc_price_ave = 1.34e+8\n",
    "print('株レポ: SC取引金額')\n",
    "pprint(sc_price_dist)\n",
    "print('='*50)\n",
    "print('株レポ: SC取引金額概観')\n",
    "sc_price_dist.T['ratio'].plot(kind='bar', rot=0)"
   ]
  },
  {
   "cell_type": "code",
   "execution_count": 23,
   "id": "68630502",
   "metadata": {
    "hidden": true,
    "scrolled": true
   },
   "outputs": [
    {
     "name": "stdout",
     "output_type": "stream",
     "text": [
      "株レポ: SC取引金額ヒストグラム\n"
     ]
    },
    {
     "data": {
      "image/png": "[encoded data removed]",
      "text/plain": [
       "<Figure size 432x288 with 1 Axes>"
      ]
     },
     "metadata": {
      "needs_background": "light"
     },
     "output_type": "display_data"
    }
   ],
   "source": [
    "sc_trade_num = 8000\n",
    "sc_ave_price_list = (sc_price_dist.T['min'] + sc_price_dist.T['max']) / 2\n",
    "sc_sample = [[ave]*int(sc_price_dist.T['ratio'][index] * sc_trade_num)  for (index, ave) in enumerate(sc_ave_price_list)]\n",
    "plt.hist(list(itertools.chain.from_iterable(sc_sample)), bins=50, range=(0, 1.0e+9))\n",
    "print('株レポ: SC取引金額ヒストグラム')"
   ]
  },
  {
   "cell_type": "code",
   "execution_count": null,
   "id": "2fab7cfd",
   "metadata": {
    "hidden": true
   },
   "outputs": [],
   "source": []
  },
  {
   "cell_type": "code",
   "execution_count": null,
   "id": "7476a707",
   "metadata": {
    "hidden": true
   },
   "outputs": [],
   "source": []
  },
  {
   "cell_type": "code",
   "execution_count": null,
   "id": "a8be2ede",
   "metadata": {
    "hidden": true
   },
   "outputs": [],
   "source": []
  },
  {
   "cell_type": "markdown",
   "id": "fbabb809",
   "metadata": {
    "heading_collapsed": true
   },
   "source": [
    "### Number of securities per trade"
   ]
  },
  {
   "cell_type": "code",
   "execution_count": 56,
   "id": "b9c105f5",
   "metadata": {
    "hidden": true
   },
   "outputs": [
    {
     "name": "stdout",
     "output_type": "stream",
     "text": [
      "株レポ: GC取引銘柄数\n"
     ]
    },
    {
     "data": {
      "text/html": [
       "<div>\n",
       "<style scoped>\n",
       "    .dataframe tbody tr th:only-of-type {\n",
       "        vertical-align: middle;\n",
       "    }\n",
       "\n",
       "    .dataframe tbody tr th {\n",
       "        vertical-align: top;\n",
       "    }\n",
       "\n",
       "    .dataframe thead th {\n",
       "        text-align: right;\n",
       "    }\n",
       "</style>\n",
       "<table border=\"1\" class=\"dataframe\">\n",
       "  <thead>\n",
       "    <tr style=\"text-align: right;\">\n",
       "      <th></th>\n",
       "      <th>1</th>\n",
       "      <th>2~10</th>\n",
       "      <th>11~50</th>\n",
       "      <th>51~100</th>\n",
       "      <th>101~</th>\n",
       "    </tr>\n",
       "  </thead>\n",
       "  <tbody>\n",
       "    <tr>\n",
       "      <th>ratio</th>\n",
       "      <td>0.1</td>\n",
       "      <td>0.45</td>\n",
       "      <td>0.3</td>\n",
       "      <td>0.1</td>\n",
       "      <td>0.05</td>\n",
       "    </tr>\n",
       "    <tr>\n",
       "      <th>min</th>\n",
       "      <td>1.0</td>\n",
       "      <td>2.00</td>\n",
       "      <td>11.0</td>\n",
       "      <td>51.0</td>\n",
       "      <td>101.00</td>\n",
       "    </tr>\n",
       "    <tr>\n",
       "      <th>max</th>\n",
       "      <td>1.0</td>\n",
       "      <td>10.00</td>\n",
       "      <td>50.0</td>\n",
       "      <td>100.0</td>\n",
       "      <td>200.00</td>\n",
       "    </tr>\n",
       "  </tbody>\n",
       "</table>\n",
       "</div>"
      ],
      "text/plain": [
       "         1   2~10  11~50  51~100    101~\n",
       "ratio  0.1   0.45    0.3     0.1    0.05\n",
       "min    1.0   2.00   11.0    51.0  101.00\n",
       "max    1.0  10.00   50.0   100.0  200.00"
      ]
     },
     "execution_count": 56,
     "metadata": {},
     "output_type": "execute_result"
    }
   ],
   "source": [
    "security_num_column_labels = ['1', '2~10', '11~50', '51~100', '101~']\n",
    "gc_security_num_dist = pd.DataFrame([[0.1, 0.45, 0.3, 0.1, 0.05], [1, 2, 11, 51, 101], [1, 10, 50, 100, 200]],\n",
    "                             columns=security_num_column_labels,\n",
    "                             index=['ratio', 'min', 'max'])\n",
    "gc_security_num_ave = 24.55\n",
    "print('株レポ: GC取引銘柄数')\n",
    "gc_security_num_dist"
   ]
  },
  {
   "cell_type": "code",
   "execution_count": 57,
   "id": "38933b3e",
   "metadata": {
    "hidden": true
   },
   "outputs": [
    {
     "name": "stdout",
     "output_type": "stream",
     "text": [
      "株レポ: SC取引銘柄数\n"
     ]
    },
    {
     "data": {
      "text/html": [
       "<div>\n",
       "<style scoped>\n",
       "    .dataframe tbody tr th:only-of-type {\n",
       "        vertical-align: middle;\n",
       "    }\n",
       "\n",
       "    .dataframe tbody tr th {\n",
       "        vertical-align: top;\n",
       "    }\n",
       "\n",
       "    .dataframe thead th {\n",
       "        text-align: right;\n",
       "    }\n",
       "</style>\n",
       "<table border=\"1\" class=\"dataframe\">\n",
       "  <thead>\n",
       "    <tr style=\"text-align: right;\">\n",
       "      <th></th>\n",
       "      <th>1</th>\n",
       "      <th>2~10</th>\n",
       "      <th>11~50</th>\n",
       "      <th>51~100</th>\n",
       "      <th>101~</th>\n",
       "    </tr>\n",
       "  </thead>\n",
       "  <tbody>\n",
       "    <tr>\n",
       "      <th>ratio</th>\n",
       "      <td>0.54</td>\n",
       "      <td>0.36</td>\n",
       "      <td>0.1</td>\n",
       "      <td>0</td>\n",
       "      <td>0.0</td>\n",
       "    </tr>\n",
       "    <tr>\n",
       "      <th>min</th>\n",
       "      <td>1.00</td>\n",
       "      <td>2.00</td>\n",
       "      <td>11.0</td>\n",
       "      <td>51</td>\n",
       "      <td>101.0</td>\n",
       "    </tr>\n",
       "    <tr>\n",
       "      <th>max</th>\n",
       "      <td>1.00</td>\n",
       "      <td>10.00</td>\n",
       "      <td>50.0</td>\n",
       "      <td>100</td>\n",
       "      <td>200.0</td>\n",
       "    </tr>\n",
       "  </tbody>\n",
       "</table>\n",
       "</div>"
      ],
      "text/plain": [
       "          1   2~10  11~50  51~100   101~\n",
       "ratio  0.54   0.36    0.1       0    0.0\n",
       "min    1.00   2.00   11.0      51  101.0\n",
       "max    1.00  10.00   50.0     100  200.0"
      ]
     },
     "execution_count": 57,
     "metadata": {},
     "output_type": "execute_result"
    }
   ],
   "source": [
    "sc_security_num_dist = pd.DataFrame([[0.54, 0.36, 0.1, 0, 0.], [1, 2, 11, 51, 101], [1, 10, 50, 100, 200]],\n",
    "                             columns=security_num_column_labels,\n",
    "                             index=['ratio', 'min', 'max'])\n",
    "sc_security_num_ave = 24.55\n",
    "print('株レポ: SC取引銘柄数')\n",
    "sc_security_num_dist"
   ]
  },
  {
   "cell_type": "code",
   "execution_count": 58,
   "id": "3926269e",
   "metadata": {
    "hidden": true
   },
   "outputs": [
    {
     "data": {
      "text/plain": [
       "<AxesSubplot:>"
      ]
     },
     "execution_count": 58,
     "metadata": {},
     "output_type": "execute_result"
    },
    {
     "data": {
      "image/png": "[encoded data removed]",
      "text/plain": [
       "<Figure size 432x288 with 1 Axes>"
      ]
     },
     "metadata": {
      "needs_background": "light"
     },
     "output_type": "display_data"
    }
   ],
   "source": [
    "gc_security_num_dist.T['ratio'].plot(kind='bar', rot=0)"
   ]
  },
  {
   "cell_type": "code",
   "execution_count": 59,
   "id": "3c6d6079",
   "metadata": {
    "hidden": true
   },
   "outputs": [
    {
     "data": {
      "text/plain": [
       "<AxesSubplot:>"
      ]
     },
     "execution_count": 59,
     "metadata": {},
     "output_type": "execute_result"
    },
    {
     "data": {
      "image/png": "[encoded data removed]",
      "text/plain": [
       "<Figure size 432x288 with 1 Axes>"
      ]
     },
     "metadata": {
      "needs_background": "light"
     },
     "output_type": "display_data"
    }
   ],
   "source": [
    "sc_security_num_dist.T['ratio'].plot(kind='bar', rot=0)"
   ]
  },
  {
   "cell_type": "code",
   "execution_count": null,
   "id": "82bc16b6",
   "metadata": {
    "hidden": true
   },
   "outputs": [],
   "source": []
  }
 ],
 "metadata": {
  "kernelspec": {
   "display_name": "Python 3 (ipykernel)",
   "language": "python",
   "name": "python3"
  },
  "language_info": {
   "codemirror_mode": {
    "name": "ipython",
    "version": 3
   },
   "file_extension": ".py",
   "mimetype": "text/x-python",
   "name": "python",
   "nbconvert_exporter": "python",
   "pygments_lexer": "ipython3",
   "version": "3.10.4"
  }
 },
 "nbformat": 4,
 "nbformat_minor": 5
}
